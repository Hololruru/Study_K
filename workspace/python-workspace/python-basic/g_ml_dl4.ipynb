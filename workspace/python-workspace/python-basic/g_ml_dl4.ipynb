{
 "cells": [
  {
   "cell_type": "code",
   "execution_count": 1,
   "metadata": {},
   "outputs": [],
   "source": [
    "from tensorflow import keras"
   ]
  },
  {
   "cell_type": "code",
   "execution_count": 2,
   "metadata": {},
   "outputs": [],
   "source": [
    "mnist_model = keras.models.load_model(\"models/mnist_model.h5\")"
   ]
  },
  {
   "cell_type": "code",
   "execution_count": 3,
   "metadata": {},
   "outputs": [],
   "source": [
    "import cv2\n",
    "import numpy as np"
   ]
  },
  {
   "cell_type": "code",
   "execution_count": 4,
   "metadata": {},
   "outputs": [],
   "source": [
    "cap = cv2.VideoCapture(0)"
   ]
  },
  {
   "cell_type": "code",
   "execution_count": 7,
   "metadata": {},
   "outputs": [
    {
     "name": "stdout",
     "output_type": "stream",
     "text": [
      "Camera Closed !!!!\n"
     ]
    }
   ],
   "source": [
    "if cap.isOpened():\n",
    "    print(\"Camera Opened !!!!\")\n",
    "else:\n",
    "    print(\"Camera Closed !!!!\")"
   ]
  },
  {
   "cell_type": "code",
   "execution_count": null,
   "metadata": {},
   "outputs": [],
   "source": [
    "if cap.isOpened(): # 카메라가 잘 열렸다면\n",
    "    while True:\n",
    "        ret, img = cap.read() # 한 프레임 읽기\n",
    "        if ret: # 잘 읽었다면\n",
    "            g_img = cv2.cvtColor(img, cv2.COLOR_BGR2GRAY) # 회색조(단색) 이미지 생성\n",
    "            _, bin_img = cv2.threshold(g_img, 127, 255, cv2.THRESH_BINARY_INV) # 경계를 기준으로 2개의 색상으로 전환\n",
    "\n",
    "            contours, hierarchy = cv2.findContours(bin_img, cv2.RETR_EXTERNAL, cv2.CHAIN_APPROX_SIMPLE)\n",
    "\n",
    "            try :\n",
    "                for contour in contours:\n",
    "                    (x, y), radius = cv2.minEnclosingCircle(contour) # 각 점을 모두 포함하는 가장 작은 원 정보 반환 \n",
    "                    if radius > 10:\n",
    "                        xs, xe = int(x - radius), int(x + radius)\n",
    "                        ys, ye = int(y - radius), int(y + radius)\n",
    "\n",
    "                        cv2.rectangle(bin_img, (xs, ys), (xe, ye), (200, 0, 0), 1)\n",
    "                    pass\n",
    "\n",
    "            except Exception as e:\n",
    "                print(e)\n",
    "\n",
    "            pass"
   ]
  },
  {
   "cell_type": "code",
   "execution_count": 6,
   "metadata": {},
   "outputs": [],
   "source": [
    "cap.release()\n",
    "cv2.destroyAllWindows()"
   ]
  },
  {
   "cell_type": "code",
   "execution_count": null,
   "metadata": {},
   "outputs": [],
   "source": []
  }
 ],
 "metadata": {
  "kernelspec": {
   "display_name": "kdigital-ocr-env",
   "language": "python",
   "name": "python3"
  },
  "language_info": {
   "codemirror_mode": {
    "name": "ipython",
    "version": 3
   },
   "file_extension": ".py",
   "mimetype": "text/x-python",
   "name": "python",
   "nbconvert_exporter": "python",
   "pygments_lexer": "ipython3",
   "version": "3.8.15"
  },
  "orig_nbformat": 4,
  "vscode": {
   "interpreter": {
    "hash": "ea0dc718a059573099e441c9475ee264e7f48073538e95f58a36540246fb1492"
   }
  }
 },
 "nbformat": 4,
 "nbformat_minor": 2
}
