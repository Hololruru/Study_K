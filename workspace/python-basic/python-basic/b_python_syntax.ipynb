{
 "cells": [
  {
   "cell_type": "code",
   "execution_count": 5,
   "metadata": {},
   "outputs": [
    {
     "name": "stdout",
     "output_type": "stream",
     "text": [
      "True\n",
      "True2\n"
     ]
    }
   ],
   "source": [
    "if True:\n",
    "  print(\"True\")\n",
    "  print(\"True2\")\n",
    "else:\n",
    "    print(\"False\")"
   ]
  },
  {
   "cell_type": "code",
   "execution_count": 8,
   "metadata": {},
   "outputs": [
    {
     "name": "stdout",
     "output_type": "stream",
     "text": [
      "60\n"
     ]
    }
   ],
   "source": [
    "a = 10 \n",
    "b = 20\n",
    "c = 30\n",
    "total = a + \\\n",
    "        b + \\\n",
    "        c\n",
    "\n",
    "print(total)\n",
    "\n",
    "d = [1, 2, 3,\n",
    "     4, 5, 6]"
   ]
  },
  {
   "cell_type": "code",
   "execution_count": 9,
   "metadata": {},
   "outputs": [],
   "source": [
    "a2 = 'hello'\n",
    "b2 = \"Hello 2\"\n",
    "c2 = \"\"\"Hello 3\"\"\"\n",
    "d2 = '''Hello 4'''\n",
    "e2 = \"\"\"First Line\n",
    "        Second Line\n",
    "        Third Line\"\"\""
   ]
  },
  {
   "cell_type": "code",
   "execution_count": 13,
   "metadata": {},
   "outputs": [
    {
     "name": "stdout",
     "output_type": "stream",
     "text": [
      "10 20 30\n",
      "<class 'tuple'>\n",
      "(100, 200, 300)\n",
      "100 200 300\n"
     ]
    }
   ],
   "source": [
    "a3, b3, c3 = 10, 20, 30\n",
    "print(a3, b3, c3)\n",
    "d4 = (100, 200, 300) # Tuple\n",
    "print(type(d4))\n",
    "print(d4)\n",
    "x3, y3, z3 = d4\n",
    "print(x3, y3, z3)"
   ]
  },
  {
   "cell_type": "code",
   "execution_count": 15,
   "metadata": {},
   "outputs": [
    {
     "name": "stdout",
     "output_type": "stream",
     "text": [
      "3.3333333333333335\n",
      "3\n"
     ]
    }
   ],
   "source": [
    "a4 = 10\n",
    "b4 = 3\n",
    "c4 = a4 / b4\n",
    "print(c4)\n",
    "d4 = a4 // b4 # 목 연산\n",
    "print(d4)"
   ]
  },
  {
   "cell_type": "code",
   "execution_count": 17,
   "metadata": {},
   "outputs": [
    {
     "name": "stdout",
     "output_type": "stream",
     "text": [
      "100200\n",
      "300\n"
     ]
    }
   ],
   "source": [
    "a5, b5 = \"100\", \"200\"\n",
    "\n",
    "print(a5 + b5)\n",
    "print(int(a5) + int(b5))"
   ]
  },
  {
   "cell_type": "code",
   "execution_count": null,
   "metadata": {},
   "outputs": [],
   "source": []
  }
 ],
 "metadata": {
  "kernelspec": {
   "display_name": "kdigital-ocr-env",
   "language": "python",
   "name": "python3"
  },
  "language_info": {
   "codemirror_mode": {
    "name": "ipython",
    "version": 3
   },
   "file_extension": ".py",
   "mimetype": "text/x-python",
   "name": "python",
   "nbconvert_exporter": "python",
   "pygments_lexer": "ipython3",
   "version": "3.8.15"
  },
  "orig_nbformat": 4,
  "vscode": {
   "interpreter": {
    "hash": "ea0dc718a059573099e441c9475ee264e7f48073538e95f58a36540246fb1492"
   }
  }
 },
 "nbformat": 4,
 "nbformat_minor": 2
}
