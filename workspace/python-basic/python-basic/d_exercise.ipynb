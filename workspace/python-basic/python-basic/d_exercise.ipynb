{
 "cells": [
  {
   "cell_type": "code",
   "execution_count": 4,
   "metadata": {},
   "outputs": [
    {
     "name": "stdout",
     "output_type": "stream",
     "text": [
      "0.24845479813641447\n",
      "33\n"
     ]
    }
   ],
   "source": [
    "# lotto 번호 추출기\n",
    "import random\n",
    "\n",
    "print( random.random() ) # 0 ~ 1 난수 발생\n",
    "print( int( random.random() * 45 + 1 ) ) # 1 ~ 45 난수 발생"
   ]
  },
  {
   "cell_type": "code",
   "execution_count": 6,
   "metadata": {},
   "outputs": [
    {
     "name": "stdout",
     "output_type": "stream",
     "text": [
      "SELECTED NUMBERS :  [11, 14, 25, 30, 31, 36, 43]\n"
     ]
    }
   ],
   "source": [
    "numbers = []\n",
    "while True:\n",
    "\n",
    "    current_number = int( random.random() * 45 + 1 )\n",
    "\n",
    "    isDup = False\n",
    "    for number in numbers:\n",
    "        if current_number == number:\n",
    "            isDup = True\n",
    "            break\n",
    "    \n",
    "    if not isDup:\n",
    "        numbers.append(current_number)\n",
    "\n",
    "    if len(numbers) > 6:\n",
    "        break\n",
    "\n",
    "numbers.sort()\n",
    "print(\"SELECTED NUMBERS : \", numbers)"
   ]
  },
  {
   "cell_type": "code",
   "execution_count": 9,
   "metadata": {},
   "outputs": [
    {
     "name": "stdout",
     "output_type": "stream",
     "text": [
      "duplicated\n",
      "duplicated\n",
      "duplicated\n",
      "SELECTED NUMBERS :  [3, 6, 15, 17, 39, 42, 45]\n"
     ]
    }
   ],
   "source": [
    "numbers = []\n",
    "while len(numbers) < 7:\n",
    "\n",
    "    current_number = int( random.random() * 45 + 1 )\n",
    "\n",
    "    for number in numbers:\n",
    "        if current_number == number:\n",
    "            print(\"duplicated\")\n",
    "            break\n",
    "    else: # break 되지 않은 경우\n",
    "        numbers.append(current_number)\n",
    "\n",
    "numbers.sort()\n",
    "print(\"SELECTED NUMBERS : \", numbers)"
   ]
  },
  {
   "cell_type": "code",
   "execution_count": 14,
   "metadata": {},
   "outputs": [],
   "source": [
    "def generate_basic_numbers(game_count=1):\n",
    "    numbers_list = []\n",
    "    for idx in range(game_count):\n",
    "        numbers = []\n",
    "        while len(numbers) < 7:\n",
    "\n",
    "            current_number = int( random.random() * 45 + 1 )\n",
    "\n",
    "            for number in numbers:\n",
    "                if current_number == number:                   \n",
    "                    break\n",
    "            else: # break 되지 않은 경우\n",
    "                numbers.append(current_number)\n",
    "        numbers.sort()\n",
    "        numbers_list.append(numbers)\n",
    "    return numbers_list"
   ]
  },
  {
   "cell_type": "code",
   "execution_count": 15,
   "metadata": {},
   "outputs": [
    {
     "name": "stdout",
     "output_type": "stream",
     "text": [
      "SELECTED NUMBERS :  [11, 14, 19, 29, 33, 40, 44]\n",
      "SELECTED NUMBERS :  [2, 7, 15, 24, 26, 28, 37]\n",
      "SELECTED NUMBERS :  [2, 11, 13, 21, 23, 25, 28]\n"
     ]
    }
   ],
   "source": [
    "# selected_numbers_list = generate_basic_numbers(3)\n",
    "selected_numbers_list = generate_basic_numbers(game_count=3)\n",
    "for numbers in selected_numbers_list:\n",
    "    print(\"SELECTED NUMBERS : \", numbers)"
   ]
  },
  {
   "cell_type": "code",
   "execution_count": 16,
   "metadata": {},
   "outputs": [],
   "source": [
    "class Lotto:\n",
    "    \"\"\"\n",
    "    로또 당첨 예상 번호를 뽑는 클래스\n",
    "    \"\"\"\n",
    "\n",
    "    def __init__(self):\n",
    "        pass\n",
    "\n",
    "    def generate_basic_numbers(self):\n",
    "        numbers = []\n",
    "        while len(numbers) < 7:\n",
    "\n",
    "            current_number = int( random.random() * 45 + 1 )\n",
    "\n",
    "            for number in numbers:\n",
    "                if current_number == number:                   \n",
    "                    break\n",
    "            else: # break 되지 않은 경우\n",
    "                numbers.append(current_number)\n",
    "        numbers.sort()\n",
    "\n",
    "        return numbers\n",
    "\n",
    "    def checkMean(self, numbers):\n",
    "        return True\n",
    "\n",
    "    def select_golden_numbers(self, game_count=1):\n",
    "        golden_numbers = []\n",
    "        while True:\n",
    "            numbers = self.generate_basic_numbers()\n",
    "            if self.checkMean(numbers):\n",
    "                golden_numbers.append(numbers)\n",
    "                break\n",
    "\n",
    "        return golden_numbers"
   ]
  },
  {
   "cell_type": "code",
   "execution_count": 17,
   "metadata": {},
   "outputs": [
    {
     "name": "stdout",
     "output_type": "stream",
     "text": [
      "[[1, 8, 9, 18, 27, 42, 43]]\n"
     ]
    }
   ],
   "source": [
    "lotto = Lotto()\n",
    "golden_numbers = lotto.select_golden_numbers()\n",
    "print(golden_numbers)"
   ]
  },
  {
   "cell_type": "code",
   "execution_count": null,
   "metadata": {},
   "outputs": [],
   "source": []
  }
 ],
 "metadata": {
  "kernelspec": {
   "display_name": "kdigital-ocr-env",
   "language": "python",
   "name": "python3"
  },
  "language_info": {
   "codemirror_mode": {
    "name": "ipython",
    "version": 3
   },
   "file_extension": ".py",
   "mimetype": "text/x-python",
   "name": "python",
   "nbconvert_exporter": "python",
   "pygments_lexer": "ipython3",
   "version": "3.8.15"
  },
  "orig_nbformat": 4,
  "vscode": {
   "interpreter": {
    "hash": "ea0dc718a059573099e441c9475ee264e7f48073538e95f58a36540246fb1492"
   }
  }
 },
 "nbformat": 4,
 "nbformat_minor": 2
}
