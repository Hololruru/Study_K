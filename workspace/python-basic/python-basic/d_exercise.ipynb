{
 "cells": [
  {
   "cell_type": "code",
   "execution_count": 4,
   "metadata": {},
   "outputs": [
    {
     "name": "stdout",
     "output_type": "stream",
     "text": [
      "0.24845479813641447\n",
      "33\n"
     ]
    }
   ],
   "source": [
    "# lotto 번호 추출기\n",
    "import random\n",
    "\n",
    "print( random.random() ) # 0 ~ 1 난수 발생\n",
    "print( int( random.random() * 45 + 1 ) ) # 1 ~ 45 난수 발생"
   ]
  },
  {
   "cell_type": "code",
   "execution_count": 6,
   "metadata": {},
   "outputs": [
    {
     "name": "stdout",
     "output_type": "stream",
     "text": [
      "SELECTED NUMBERS :  [11, 14, 25, 30, 31, 36, 43]\n"
     ]
    }
   ],
   "source": [
    "numbers = []\n",
    "while True:\n",
    "\n",
    "    current_number = int( random.random() * 45 + 1 )\n",
    "\n",
    "    isDup = False\n",
    "    for number in numbers:\n",
    "        if current_number == number:\n",
    "            isDup = True\n",
    "            break\n",
    "    \n",
    "    if not isDup:\n",
    "        numbers.append(current_number)\n",
    "\n",
    "    if len(numbers) > 6:\n",
    "        break\n",
    "\n",
    "numbers.sort()\n",
    "print(\"SELECTED NUMBERS : \", numbers)"
   ]
  },
  {
   "cell_type": "code",
   "execution_count": 9,
   "metadata": {},
   "outputs": [
    {
     "name": "stdout",
     "output_type": "stream",
     "text": [
      "duplicated\n",
      "duplicated\n",
      "duplicated\n",
      "SELECTED NUMBERS :  [3, 6, 15, 17, 39, 42, 45]\n"
     ]
    }
   ],
   "source": [
    "numbers = []\n",
    "while len(numbers) < 7:\n",
    "\n",
    "    current_number = int( random.random() * 45 + 1 )\n",
    "\n",
    "    for number in numbers:\n",
    "        if current_number == number:\n",
    "            print(\"duplicated\")\n",
    "            break\n",
    "    else: # break 되지 않은 경우\n",
    "        numbers.append(current_number)\n",
    "\n",
    "numbers.sort()\n",
    "print(\"SELECTED NUMBERS : \", numbers)"
   ]
  },
  {
   "cell_type": "code",
   "execution_count": 14,
   "metadata": {},
   "outputs": [],
   "source": [
    "def generate_basic_numbers(game_count=1):\n",
    "    numbers_list = []\n",
    "    for idx in range(game_count):\n",
    "        numbers = []\n",
    "        while len(numbers) < 7:\n",
    "\n",
    "            current_number = int( random.random() * 45 + 1 )\n",
    "\n",
    "            for number in numbers:\n",
    "                if current_number == number:                   \n",
    "                    break\n",
    "            else: # break 되지 않은 경우\n",
    "                numbers.append(current_number)\n",
    "        numbers.sort()\n",
    "        numbers_list.append(numbers)\n",
    "    return numbers_list"
   ]
  },
  {
   "cell_type": "code",
   "execution_count": 15,
   "metadata": {},
   "outputs": [
    {
     "name": "stdout",
     "output_type": "stream",
     "text": [
      "SELECTED NUMBERS :  [11, 14, 19, 29, 33, 40, 44]\n",
      "SELECTED NUMBERS :  [2, 7, 15, 24, 26, 28, 37]\n",
      "SELECTED NUMBERS :  [2, 11, 13, 21, 23, 25, 28]\n"
     ]
    }
   ],
   "source": [
    "# selected_numbers_list = generate_basic_numbers(3)\n",
    "selected_numbers_list = generate_basic_numbers(game_count=3)\n",
    "for numbers in selected_numbers_list:\n",
    "    print(\"SELECTED NUMBERS : \", numbers)"
   ]
  },
  {
   "cell_type": "code",
   "execution_count": 16,
   "metadata": {},
   "outputs": [],
   "source": [
    "class Lotto:\n",
    "    \"\"\"\n",
    "    로또 당첨 예상 번호를 뽑는 클래스\n",
    "    \"\"\"\n",
    "\n",
    "    def __init__(self):\n",
    "        pass\n",
    "\n",
    "    def generate_basic_numbers(self):\n",
    "        numbers = []\n",
    "        while len(numbers) < 7:\n",
    "\n",
    "            current_number = int( random.random() * 45 + 1 )\n",
    "\n",
    "            for number in numbers:\n",
    "                if current_number == number:                   \n",
    "                    break\n",
    "            else: # break 되지 않은 경우\n",
    "                numbers.append(current_number)\n",
    "        numbers.sort()\n",
    "\n",
    "        return numbers\n",
    "\n",
    "    def checkMean(self, numbers):\n",
    "        return True\n",
    "\n",
    "    def select_golden_numbers(self, game_count=1):\n",
    "        golden_numbers = []\n",
    "        while True:\n",
    "            numbers = self.generate_basic_numbers()\n",
    "            if self.checkMean(numbers):\n",
    "                golden_numbers.append(numbers)\n",
    "                break\n",
    "\n",
    "        return golden_numbers"
   ]
  },
  {
   "cell_type": "code",
   "execution_count": 17,
   "metadata": {},
   "outputs": [
    {
     "name": "stdout",
     "output_type": "stream",
     "text": [
      "[[1, 8, 9, 18, 27, 42, 43]]\n"
     ]
    }
   ],
   "source": [
    "lotto = Lotto()\n",
    "golden_numbers = lotto.select_golden_numbers()\n",
    "print(golden_numbers)"
   ]
  },
  {
   "cell_type": "code",
   "execution_count": null,
   "metadata": {},
   "outputs": [],
   "source": []
  },
  {
   "cell_type": "code",
   "execution_count": 3,
   "metadata": {},
   "outputs": [
    {
     "name": "stdout",
     "output_type": "stream",
     "text": [
      "40910\n",
      "[['1907-10-01', '108', '13.5', '7.9', '20.7'], ['1907-10-02', '108', '16.2', '7.9', '22'], ['1907-10-03', '108', '16.2', '13.1', '21.3'], ['1907-10-04', '108', '16.5', '11.2', '22'], ['1907-10-05', '108', '17.6', '10.9', '25.4']]\n"
     ]
    }
   ],
   "source": [
    "data = []\n",
    "with open('data-files/seoul-temperature.csv', 'rt', encoding=\"utf-8\") as f:\n",
    "    f.readline()\n",
    "    while True:\n",
    "        line = f.readline()\n",
    "        if not line:\n",
    "            break        \n",
    "        else:\n",
    "            line = line.rstrip(\"\\n\")\n",
    "            data.append(line.split(\",\"))\n",
    "            # print(line)\n",
    "\n",
    "print(len(data))\n",
    "print(data[:5])"
   ]
  },
  {
   "cell_type": "code",
   "execution_count": 12,
   "metadata": {},
   "outputs": [],
   "source": [
    "# 1. 데이터를 다음과 같은 형식으로 읽어서 변수에 저장\n",
    "# [\n",
    "#     [\"날짜\", \"지점\", 평균(float), 최저(float), 최고(float)],\n",
    "#     [\"날짜\", \"지점\", 평균(float), 최저(float), 최고(float)]\n",
    "# ]\n",
    "\n",
    "def to_float(v):\n",
    "    try:\n",
    "        fv = float(v)\n",
    "    except:\n",
    "        fv = -10000\n",
    "    return fv\n",
    "\n",
    "\n",
    "data2 = list(filter(lambda row: len(row) == 5, \n",
    "                    data))\n",
    "\n",
    "data3 = list(map(lambda row: row[:2] + list(map(lambda v: to_float(v), \n",
    "                                                row[2:])), \n",
    "                 data2))"
   ]
  },
  {
   "cell_type": "code",
   "execution_count": 13,
   "metadata": {},
   "outputs": [
    {
     "data": {
      "text/plain": [
       "(40909,\n",
       " [['1907-10-01', '108', 13.5, 7.9, 20.7],\n",
       "  ['1907-10-02', '108', 16.2, 7.9, 22.0],\n",
       "  ['1907-10-03', '108', 16.2, 13.1, 21.3],\n",
       "  ['1907-10-04', '108', 16.5, 11.2, 22.0],\n",
       "  ['1907-10-05', '108', 17.6, 10.9, 25.4]])"
      ]
     },
     "execution_count": 13,
     "metadata": {},
     "output_type": "execute_result"
    }
   ],
   "source": [
    "len(data3), data3[:5]"
   ]
  },
  {
   "cell_type": "code",
   "execution_count": 16,
   "metadata": {},
   "outputs": [],
   "source": [
    "# 가장 더웠던 날의 데이터 출력\n",
    "max_temp = -10000\n",
    "data = None\n",
    "for row in data3:\n",
    "    if row[-1] > max_temp:\n",
    "        max_temp = row[-1]\n",
    "        data = row"
   ]
  },
  {
   "cell_type": "code",
   "execution_count": 17,
   "metadata": {},
   "outputs": [
    {
     "data": {
      "text/plain": [
       "['2018-08-01', '108', 33.6, 27.8, 39.6]"
      ]
     },
     "execution_count": 17,
     "metadata": {},
     "output_type": "execute_result"
    }
   ],
   "source": [
    "data"
   ]
  },
  {
   "cell_type": "code",
   "execution_count": 18,
   "metadata": {},
   "outputs": [],
   "source": [
    "# 출생 년도 이후 생일 중에서 가장 더웠던 날\n",
    "year = 1980\n",
    "dt = '03-03'\n",
    "\n",
    "max_temp = -10000\n",
    "data = None\n",
    "for row in data3:\n",
    "    y = row[0][:4] # 1970-06-25 -> 1970\n",
    "    d = row[0][5:] # 1970-06-25 -> 06-25\n",
    "    if int(y) > year and dt == d:\n",
    "        if row[-1] > max_temp:\n",
    "            max_temp = row[-1]\n",
    "            data = row\n"
   ]
  },
  {
   "cell_type": "code",
   "execution_count": 19,
   "metadata": {},
   "outputs": [
    {
     "data": {
      "text/plain": [
       "['2000-03-03', '108', 8.8, 1.2, 17.2]"
      ]
     },
     "execution_count": 19,
     "metadata": {},
     "output_type": "execute_result"
    }
   ],
   "source": [
    "data"
   ]
  },
  {
   "cell_type": "code",
   "execution_count": null,
   "metadata": {},
   "outputs": [],
   "source": [
    "# 데이터 재구성 (월별로 데이터 정리)\n",
    "# {\n",
    "#     1: [[....],[....]],\n",
    "#     2: [[....],[....]],\n",
    "#     ...\n",
    "#     12: [[....],[....]]\n",
    "# }"
   ]
  }
 ],
 "metadata": {
  "kernelspec": {
   "display_name": "kdigital-ocr-env",
   "language": "python",
   "name": "python3"
  },
  "language_info": {
   "codemirror_mode": {
    "name": "ipython",
    "version": 3
   },
   "file_extension": ".py",
   "mimetype": "text/x-python",
   "name": "python",
   "nbconvert_exporter": "python",
   "pygments_lexer": "ipython3",
   "version": "3.8.15"
  },
  "orig_nbformat": 4,
  "vscode": {
   "interpreter": {
    "hash": "ea0dc718a059573099e441c9475ee264e7f48073538e95f58a36540246fb1492"
   }
  }
 },
 "nbformat": 4,
 "nbformat_minor": 2
}
