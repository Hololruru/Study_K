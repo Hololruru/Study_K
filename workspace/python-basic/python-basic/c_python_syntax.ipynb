{
 "cells": [
  {
   "cell_type": "code",
   "execution_count": 2,
   "metadata": {},
   "outputs": [
    {
     "name": "stdout",
     "output_type": "stream",
     "text": [
      "김윤석\n"
     ]
    }
   ],
   "source": [
    "name = input(\"Input Your Name : \")\n",
    "print(name)"
   ]
  },
  {
   "cell_type": "code",
   "execution_count": 4,
   "metadata": {},
   "outputs": [
    {
     "name": "stdout",
     "output_type": "stream",
     "text": [
      "True\n"
     ]
    }
   ],
   "source": [
    "# b = true or false ( java or javascript)\n",
    "b = True\n",
    "b = False\n",
    "\n",
    "if b:\n",
    "    pass\n",
    "else:\n",
    "    print(\"True\")"
   ]
  },
  {
   "cell_type": "code",
   "execution_count": 9,
   "metadata": {},
   "outputs": [
    {
     "name": "stdout",
     "output_type": "stream",
     "text": [
      "0\n",
      "2\n",
      "4\n",
      "6\n",
      "8\n"
     ]
    }
   ],
   "source": [
    "for idx in range(0, 10, 2): # for (int i = 0; i < 10; i += 2)\n",
    "    print(idx)"
   ]
  },
  {
   "cell_type": "code",
   "execution_count": 19,
   "metadata": {},
   "outputs": [
    {
     "name": "stdout",
     "output_type": "stream",
     "text": [
      "[10, 20, 30, 40, 50, 60, 70, 80, 90, 100]\n",
      "[10, 20, 30, 40, 50, 60, 70, 80, 90, 100]\n",
      "(10, 20, 30, 40, 50, 60, 70, 80, 90, 100)\n",
      "{'key1': 10, 'key2': 20, 'key3': 30, 'key4': 40, 'key5': 50, 'key6': 60, 'key7': 70, 'key8': 80, 'key9': 90, 'key10': 100}\n",
      "[20, 40, 60, 80, 100]\n"
     ]
    }
   ],
   "source": [
    "a = [1, 2, 3, 4, 5, 6, 7, 8, 9, 10]\n",
    "# 각 요소에 x10 처리\n",
    "vs = []\n",
    "for v in a:\n",
    "    vs.append(v * 10)\n",
    "print(vs)\n",
    "\n",
    "vs2 = [v * 10 for v in a]\n",
    "print(vs2)\n",
    "\n",
    "vs3 = (v * 10 for v in a)\n",
    "print(tuple(vs3))\n",
    "\n",
    "vs4 = {\"key\" + str(v) : v * 10 for v in a}\n",
    "print(vs4)\n",
    "\n",
    "vs5 = [v * 10 for v in a if v % 2 == 0]\n",
    "print(vs5)"
   ]
  },
  {
   "cell_type": "code",
   "execution_count": 23,
   "metadata": {},
   "outputs": [
    {
     "name": "stdout",
     "output_type": "stream",
     "text": [
      "1\n",
      "3\n",
      "5\n",
      "7\n",
      "9\n"
     ]
    }
   ],
   "source": [
    "a = [1, 2, 3, 4, 5, 6, 7, 8, 9, 10]\n",
    "a2 = filter(lambda v: v % 2 != 0, a)\n",
    "for v in a2:\n",
    "    print(v)"
   ]
  },
  {
   "cell_type": "code",
   "execution_count": 26,
   "metadata": {},
   "outputs": [
    {
     "name": "stdout",
     "output_type": "stream",
     "text": [
      "a 10\n",
      "b 20\n",
      "c 30\n",
      "d 40\n",
      "e 50\n",
      "f 60\n",
      "[('a', 10), ('b', 20), ('c', 30), ('d', 40), ('e', 50), ('f', 60)]\n",
      "{'a': 10, 'b': 20, 'c': 30, 'd': 40, 'e': 50, 'f': 60}\n"
     ]
    }
   ],
   "source": [
    "key = ['a', 'b', 'c', 'd', 'e', 'f']\n",
    "value = [10, 20, 30, 40, 50, 60]\n",
    "\n",
    "for (k, v) in zip(key, value):\n",
    "    print(k, v)\n",
    "\n",
    "new_list = [(k, v) for (k, v) in zip(key, value) ]\n",
    "print( new_list )\n",
    "\n",
    "new_dict = { k: v for (k, v) in zip(key, value) }\n",
    "print( new_dict )\n"
   ]
  },
  {
   "cell_type": "code",
   "execution_count": null,
   "metadata": {},
   "outputs": [],
   "source": []
  }
 ],
 "metadata": {
  "kernelspec": {
   "display_name": "kdigital-ocr-env",
   "language": "python",
   "name": "python3"
  },
  "language_info": {
   "codemirror_mode": {
    "name": "ipython",
    "version": 3
   },
   "file_extension": ".py",
   "mimetype": "text/x-python",
   "name": "python",
   "nbconvert_exporter": "python",
   "pygments_lexer": "ipython3",
   "version": "3.8.15"
  },
  "orig_nbformat": 4,
  "vscode": {
   "interpreter": {
    "hash": "ea0dc718a059573099e441c9475ee264e7f48073538e95f58a36540246fb1492"
   }
  }
 },
 "nbformat": 4,
 "nbformat_minor": 2
}
